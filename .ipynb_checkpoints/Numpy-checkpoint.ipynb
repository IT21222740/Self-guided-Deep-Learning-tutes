{
 "cells": [
  {
   "cell_type": "markdown",
   "id": "ed68d07e-c00f-490a-b49d-a6963d636859",
   "metadata": {},
   "source": [
    "<h1 style=\"font-size:3rem;color:orange;\">NumPy Tutorial </h1>"
   ]
  },
  {
   "cell_type": "code",
   "execution_count": 11,
   "id": "a39f6318-0e4d-449d-a87f-33bd9b1200ef",
   "metadata": {},
   "outputs": [
    {
     "name": "stdout",
     "output_type": "stream",
     "text": [
      "Requirement already satisfied: numpy in c:\\users\\user\\anaconda3\\lib\\site-packages (1.26.4)\n"
     ]
    }
   ],
   "source": [
    "!pip install numpy"
   ]
  },
  {
   "cell_type": "code",
   "execution_count": 15,
   "id": "6d242199-0721-4fc4-9cd7-3c37389c622b",
   "metadata": {},
   "outputs": [],
   "source": [
    "import numpy as np"
   ]
  },
  {
   "cell_type": "code",
   "execution_count": 24,
   "id": "09eb30b2-27d4-49e8-a419-ec0bb5e2022a",
   "metadata": {},
   "outputs": [
    {
     "name": "stdout",
     "output_type": "stream",
     "text": [
      "[1 2 3 4 5]\n",
      "2\n",
      "[2 3 4 5]\n",
      "[1 2 3]\n",
      "24\n"
     ]
    }
   ],
   "source": [
    "a = np.array([1,2,3,4,5])\n",
    "print(a)\n",
    "print(a[1])\n",
    "print(a[1:])\n",
    "print(a[:-2])\n",
    "a[2] = 24\n",
    "print(a[2])"
   ]
  },
  {
   "cell_type": "code",
   "execution_count": 31,
   "id": "82d5958e-ddaa-470c-b8dc-c03168f6a929",
   "metadata": {},
   "outputs": [
    {
     "name": "stdout",
     "output_type": "stream",
     "text": [
      "[[1 2 3]\n",
      " [4 5 6]\n",
      " [7 8 3]]\n",
      "(3, 3)\n"
     ]
    }
   ],
   "source": [
    "a_mul = np.array([[1,2,3],[4,5,6],[7,8,3]])\n",
    "print(a_mul)\n",
    "print(a_mul.shape)"
   ]
  },
  {
   "cell_type": "code",
   "execution_count": 37,
   "id": "18fde8b8-ca2c-4a5d-9f2e-69587a715edb",
   "metadata": {},
   "outputs": [
    {
     "name": "stdout",
     "output_type": "stream",
     "text": [
      "(2, 3, 4)\n",
      "3\n",
      "24\n",
      "int32\n"
     ]
    }
   ],
   "source": [
    "a_mul = np.array([[[2,3,4,1],[5,6,7,1],[8,9,10,1]],[[1,2,3,2],[4,5,6,4],[7,12,2,4]]])\n",
    "print(a_mul.shape)\n",
    "print(a_mul.ndim)\n",
    "print(a_mul.size)\n",
    "print(a_mul.dtype)\n"
   ]
  },
  {
   "cell_type": "code",
   "execution_count": 43,
   "id": "5dd690b3-e913-4e6e-a7f6-ffc6fb59b281",
   "metadata": {},
   "outputs": [
    {
     "name": "stdout",
     "output_type": "stream",
     "text": [
      "<U11\n",
      "<U1\n",
      "<class 'numpy.str_'>\n"
     ]
    }
   ],
   "source": [
    "a= np.array([[1,2,3],[4,\"hello\",6]])\n",
    "print(a.dtype)\n",
    "print(a[0][0].dtype)\n",
    "print(type(a[0,0]))"
   ]
  },
  {
   "cell_type": "code",
   "execution_count": 48,
   "id": "32ff42fc-c9a3-432b-900e-fe2558c0e2ab",
   "metadata": {},
   "outputs": [
    {
     "name": "stdout",
     "output_type": "stream",
     "text": [
      "[[1 2 3]\n",
      " [1 2 5]]\n",
      "int32\n"
     ]
    }
   ],
   "source": [
    "b = np.array([[1,2,3],[1,2,\"5\"]],dtype=np.int32) #can be convert to float32\n",
    "print(b)\n",
    "print(b.dtype)"
   ]
  },
  {
   "cell_type": "code",
   "execution_count": 70,
   "id": "39f469d9-f5f1-498f-bb6d-8b6dca606330",
   "metadata": {},
   "outputs": [
    {
     "name": "stdout",
     "output_type": "stream",
     "text": [
      "[[[9 9 9 9]\n",
      "  [9 9 9 9]\n",
      "  [9 9 9 9]]\n",
      "\n",
      " [[9 9 9 9]\n",
      "  [9 9 9 9]\n",
      "  [9 9 9 9]]]\n",
      "[[[0. 0. 0. 0. 0. 0. 0. 0. 0.]\n",
      "  [0. 0. 0. 0. 0. 0. 0. 0. 0.]]\n",
      "\n",
      " [[0. 0. 0. 0. 0. 0. 0. 0. 0.]\n",
      "  [0. 0. 0. 0. 0. 0. 0. 0. 0.]]]\n",
      "[[[1. 1. 1. 1.]\n",
      "  [1. 1. 1. 1.]\n",
      "  [1. 1. 1. 1.]]\n",
      "\n",
      " [[1. 1. 1. 1.]\n",
      "  [1. 1. 1. 1.]\n",
      "  [1. 1. 1. 1.]]]\n",
      "[[[0.00000000e+000 0.00000000e+000 0.00000000e+000 6.95213549e-310\n",
      "   2.76676762e-322]\n",
      "  [6.95213550e-310 6.95213551e-310 1.40315126e-311 1.40315126e-311\n",
      "   6.95213550e-310]\n",
      "  [6.95213551e-310 6.95213551e-310 1.40315126e-311 1.40315126e-311\n",
      "   6.95213551e-310]\n",
      "  [1.40315125e-311 6.95213550e-310 6.95213550e-310 1.40315126e-311\n",
      "   6.95213550e-310]]\n",
      "\n",
      " [[1.40315126e-311 1.40315126e-311 6.95213550e-310 1.40315126e-311\n",
      "   6.95213549e-310]\n",
      "  [1.40315126e-311 6.95213551e-310 1.40315126e-311 6.95213549e-310\n",
      "   6.95213552e-310]\n",
      "  [6.95213550e-310 1.40315126e-311 1.40315124e-311 6.95213551e-310\n",
      "   1.40315126e-311]\n",
      "  [1.40315126e-311 1.40315126e-311 1.40315126e-311 6.95213551e-310\n",
      "   6.95213552e-310]]\n",
      "\n",
      " [[6.95213551e-310 6.95213550e-310 1.40315126e-311 1.40315126e-311\n",
      "   6.95213549e-310]\n",
      "  [6.95213551e-310 1.40315126e-311 1.40315126e-311 6.95213552e-310\n",
      "   1.40315126e-311]\n",
      "  [6.95213551e-310 1.40315126e-311 1.40315126e-311 1.40315126e-311\n",
      "   1.40315126e-311]\n",
      "  [1.40315126e-311 1.40317958e-311 6.95213550e-310 1.40315125e-311\n",
      "   1.40315126e-311]]]\n",
      "[ 0  5 10 15 20 25 30 35 40 45 50 55 60 65 70 75 80 85 90 95]\n",
      "[   0.          333.33333333  666.66666667 1000.        ]\n"
     ]
    }
   ],
   "source": [
    "### Filling Arrays\n",
    "#1\n",
    "a = np.full((2,3,4),9) # first para the shape and 2nd one to fill\n",
    "print(a)\n",
    "\n",
    "#2\n",
    "b = np.zeros((2,2,9)) #all elements are zeros\n",
    "print(b)\n",
    "\n",
    "#3\n",
    "c = np.ones((2,3,4)) #all elements with one\n",
    "print(c)\n",
    "\n",
    "#4\n",
    "d = np.empty((3,4,5)) #numpy is c library so when we say empty it only allocated. values are garbage values\n",
    "print(d)\n",
    "\n",
    "#5\n",
    "x_values = np.arange(0,100,5) # 1st para = begin number ,2nd para = last number , 3rd para = ending number\n",
    "print(x_values)\n",
    "\n",
    "#6\n",
    "x_values = np.linspace(0,1000,4) # getting a sequence with same gap between elements\n",
    "print(x_values)"
   ]
  },
  {
   "cell_type": "code",
   "execution_count": 76,
   "id": "07592278-3854-4897-a8dd-9df8950da37c",
   "metadata": {},
   "outputs": [
    {
     "name": "stdout",
     "output_type": "stream",
     "text": [
      "nan\n",
      "True\n",
      "False\n",
      "inf\n",
      "True\n",
      "False\n"
     ]
    }
   ],
   "source": [
    "print(np.nan) #not a number\n",
    "print(np.isnan(np.nan))\n",
    "print(np.isnan(1))\n",
    "\n",
    "print(np.inf) #infinity\n",
    "print(np.isinf(np.inf))\n",
    "print(np.isinf(1))\n"
   ]
  },
  {
   "cell_type": "markdown",
   "id": "eccd085b-b6e2-4d4a-be79-6b87b60a0013",
   "metadata": {},
   "source": [
    "#### Mathematical operations"
   ]
  },
  {
   "cell_type": "code",
   "execution_count": 83,
   "id": "28e94c4c-2a2e-4bcd-934b-5c1d67f22db3",
   "metadata": {},
   "outputs": [
    {
     "name": "stdout",
     "output_type": "stream",
     "text": [
      "\n",
      "when we try to multiply list by 5 list will increment number of values by 5\n",
      "but when we try to multiply np.array by 5 elements will multiply by 5 individually\n",
      "\n",
      "[1, 2, 3, 4, 5, 1, 2, 3, 4, 5, 1, 2, 3, 4, 5, 1, 2, 3, 4, 5, 1, 2, 3, 4, 5]\n",
      "[ 5 10 15 20 25]\n"
     ]
    }
   ],
   "source": [
    "# creating two lists \n",
    "list_one = [1,2,3,4,5]\n",
    "list_two = [6,7,8,9,10]\n",
    "\n",
    "#creating two arrays using numPy\n",
    "array1= np.array(list_one)\n",
    "array2= np.array(list_two)\n",
    "\n",
    "print(\"\"\"\n",
    "when we try to multiply list by 5 list will increment number of values by 5\n",
    "but when we try to multiply np.array by 5 elements will multiply by 5 individually\n",
    "\"\"\")\n",
    "print(list_one*5)\n",
    "print(array1*5) #work as matrix"
   ]
  },
  {
   "cell_type": "code",
   "execution_count": 93,
   "id": "e372f8df-7b93-4ffc-8277-05fdaa474ae9",
   "metadata": {},
   "outputs": [
    {
     "name": "stdout",
     "output_type": "stream",
     "text": [
      " you can't add constant to a list, it gives an syntax error\n",
      "    but you can add a constant to a np.array. it adds like a matrix\n",
      "    \n",
      "[ 6  7  8  9 10]\n",
      "\n",
      "error as follows\n",
      "\n"
     ]
    },
    {
     "ename": "TypeError",
     "evalue": "can only concatenate list (not \"int\") to list",
     "output_type": "error",
     "traceback": [
      "\u001b[1;31m---------------------------------------------------------------------------\u001b[0m",
      "\u001b[1;31mTypeError\u001b[0m                                 Traceback (most recent call last)",
      "Cell \u001b[1;32mIn[93], line 10\u001b[0m\n\u001b[0;32m      6\u001b[0m \u001b[38;5;28mprint\u001b[39m(array1\u001b[38;5;241m+\u001b[39m\u001b[38;5;241m5\u001b[39m) \u001b[38;5;66;03m#work as matrix\u001b[39;00m\n\u001b[0;32m      7\u001b[0m \u001b[38;5;28mprint\u001b[39m(\u001b[38;5;124m\"\"\"\u001b[39m\n\u001b[0;32m      8\u001b[0m \u001b[38;5;124merror as follows\u001b[39m\n\u001b[0;32m      9\u001b[0m \u001b[38;5;124m\"\"\"\u001b[39m)\n\u001b[1;32m---> 10\u001b[0m \u001b[38;5;28mprint\u001b[39m(list_one\u001b[38;5;241m+\u001b[39m\u001b[38;5;241m5\u001b[39m)\n\u001b[0;32m     11\u001b[0m \u001b[38;5;28mprint\u001b[39m(\u001b[38;5;124m\"\u001b[39m\u001b[38;5;130;01m\\n\u001b[39;00m\u001b[38;5;130;01m\\n\u001b[39;00m\u001b[38;5;124m\"\u001b[39m)\n",
      "\u001b[1;31mTypeError\u001b[0m: can only concatenate list (not \"int\") to list"
     ]
    }
   ],
   "source": [
    "print(\n",
    "    \"\"\" you can't add constant to a list, it gives an syntax error\n",
    "    but you can add a constant to a np.array. it adds like a matrix\n",
    "    \"\"\"\n",
    ")\n",
    "print(array1+5) #work as matrix\n",
    "print(\"\"\"\n",
    "error as follows\n",
    "\"\"\")\n",
    "print(list_one+5)\n"
   ]
  },
  {
   "cell_type": "code",
   "execution_count": 101,
   "id": "e1877919-2e97-4375-99c3-79351cc3528d",
   "metadata": {},
   "outputs": [
    {
     "name": "stdout",
     "output_type": "stream",
     "text": [
      "\n",
      "    Array Multiplication not equal to matrix multiplication\n",
      "    \n",
      "[[ 3  6  9]\n",
      " [ 4  8 12]]\n",
      "[[ 3  6  9]\n",
      " [ 4  8 12]]\n",
      "\n",
      "addition,substraction,division same as array multiplication\n",
      "\n",
      "\n",
      "ex: a1+a2\n",
      "1+3, 2+3, 3+3\n",
      "1+4, 1+5, 1+6\n",
      "\n",
      "[[4 5 6]\n",
      " [5 6 7]]\n"
     ]
    }
   ],
   "source": [
    "print(\"\"\"\n",
    "    Array Multiplication not equal to matrix multiplication\n",
    "    \"\"\"\n",
    ")\n",
    "\n",
    "a1 = np.array([1,2,3])\n",
    "a2 = np.array([[3],[4]])\n",
    "a3 = np.array([[1,2,3],[4,5,6]])\n",
    "\n",
    "output1 = a1*a2\n",
    "output2 = a1*a2\n",
    "print(output1)\n",
    "print(output2)\n",
    "\n",
    "print(\"\"\"\n",
    "addition,substraction,division same as array multiplication\n",
    "\"\"\")\n",
    "print(\"\"\"\n",
    "ex: a1+a2\n",
    "1+3, 2+3, 3+3\n",
    "1+4, 1+5, 1+6\n",
    "\"\"\")\n",
    "print(a1+a2)"
   ]
  },
  {
   "cell_type": "code",
   "execution_count": 107,
   "id": "232c7b36-ab8b-4347-8e8e-5baa6554e34b",
   "metadata": {},
   "outputs": [
    {
     "name": "stdout",
     "output_type": "stream",
     "text": [
      "\n",
      "numpy built in mathematical methods\n",
      "\n",
      "[[1.         1.41421356 2.        ]\n",
      " [4.89897949 1.41421356 1.73205081]]\n",
      "[[0.         0.30103    0.60205999]\n",
      " [1.38021124 0.30103    0.47712125]]\n"
     ]
    }
   ],
   "source": [
    "print(\"\"\"\n",
    "numpy built in mathematical methods\n",
    "\"\"\")\n",
    "a = np.array([[1,2,4],[24,2,3]])\n",
    "print(np.sqrt(a))\n",
    "print(np.log10(a))"
   ]
  },
  {
   "cell_type": "code",
   "execution_count": 130,
   "id": "15d9c96d-5818-447c-a796-eb9e6aede7e6",
   "metadata": {},
   "outputs": [
    {
     "name": "stdout",
     "output_type": "stream",
     "text": [
      "\n",
      "Array Functions\n",
      "\n",
      "\n",
      "Arrays appending\n",
      "[1,2,3] [11,21,31])\n",
      "\n",
      "[ 1  2  3 11 21 31]\n",
      "\n",
      "Arrays insert\n",
      "np.insert(array, starting postion, arraypart)\n",
      "\n",
      "[ 1  2  9  8 93  3 11 21 31]\n",
      "\n",
      "np.delete(array,index to delete)\n",
      "first give row index then give coloumn index\n",
      "\n",
      "[ 1  9  8 93  3 11 21 31]\n",
      "[ 2  9  8 93  3 11 21 31]\n",
      "[[2]\n",
      " [4]]\n",
      "[[1]\n",
      " [3]]\n"
     ]
    }
   ],
   "source": [
    "print(\"\"\"\n",
    "Array Functions\n",
    "\"\"\")\n",
    "a = np.array([1,2,3])\n",
    "print(\"\"\"\n",
    "Arrays appending\n",
    "[1,2,3] [11,21,31])\n",
    "\"\"\")\n",
    "a = np.append(a,[11,21,31])\n",
    "print(a)\n",
    "\n",
    "print(\"\"\"\n",
    "Arrays insert\n",
    "np.insert(array, starting postion, arraypart)\n",
    "\"\"\")\n",
    "a = np.insert(a,2,[9,8,93])\n",
    "print(a)\n",
    "\n",
    "print(\"\"\"\n",
    "np.delete(array,index to delete)\n",
    "first give row index then give coloumn index\n",
    "\"\"\")\n",
    "print (np.delete(a,1))\n",
    "print (np.delete(a,0))\n",
    "print (np.delete(np.array([[1,2],[3,4]]),0,1))\n",
    "print (np.delete(np.array([[1,2],[3,4]]),1,1))"
   ]
  },
  {
   "cell_type": "code",
   "execution_count": null,
   "id": "12dcfd7e-0fdf-4079-b5c7-e3c5eb245936",
   "metadata": {},
   "outputs": [],
   "source": []
  }
 ],
 "metadata": {
  "kernelspec": {
   "display_name": "Python 3 (ipykernel)",
   "language": "python",
   "name": "python3"
  },
  "language_info": {
   "codemirror_mode": {
    "name": "ipython",
    "version": 3
   },
   "file_extension": ".py",
   "mimetype": "text/x-python",
   "name": "python",
   "nbconvert_exporter": "python",
   "pygments_lexer": "ipython3",
   "version": "3.12.4"
  }
 },
 "nbformat": 4,
 "nbformat_minor": 5
}
